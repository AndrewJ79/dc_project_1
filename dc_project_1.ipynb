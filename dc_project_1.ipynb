{
 "cells": [
  {
   "cell_type": "code",
   "execution_count": 2,
   "id": "48982f86-a2d9-4cd7-b62a-41b4aca6682b",
   "metadata": {},
   "outputs": [],
   "source": [
    "#Import Dependencies\n",
    "import pandas as pd\n",
    "from pathlib import Path\n",
    "import numpy as np\n",
    "import matplotlib.pyplot as plt"
   ]
  },
  {
   "cell_type": "code",
   "execution_count": 3,
   "id": "ce8559c2",
   "metadata": {},
   "outputs": [],
   "source": [
    "# Path to CSV files\n",
    "us_gdp_csv = Path(\"resources/us_gdp.csv\")\n",
    "avg_amount_financed_csv = Path(\"resources/avg_amount_financed.csv\")\n",
    "avg_rate_csv = Path(\"resources/avg_finance_rate.csv\")\n",
    "delinquency_rate_csv = Path(\"resources/delinquency_rate.csv\")"
   ]
  },
  {
   "cell_type": "code",
   "execution_count": 4,
   "id": "a7348d9b",
   "metadata": {},
   "outputs": [],
   "source": [
    "# Read in files.\n",
    "us_gdp_df = pd.read_csv(us_gdp_csv)\n",
    "avg_amount_financed = pd.read_csv(avg_amount_financed_csv)\n",
    "avg_rate_df = pd.read_csv(avg_rate_csv)\n",
    "delinquency_rate_df = pd.read_csv(delinquency_rate_csv)"
   ]
  },
  {
   "cell_type": "code",
   "execution_count": 5,
   "id": "b45647de-0bab-4a44-b7af-8fc931f2d28a",
   "metadata": {},
   "outputs": [],
   "source": [
    "# Merge into one dataframe\n",
    "merged_df = us_gdp_df.merge(avg_amount_financed, on=\"DATE\", how=\"outer\") \\\n",
    "                     .merge(avg_rate_df, on=\"DATE\", how=\"outer\") \\\n",
    "                     .merge(delinquency_rate_df, on=\"DATE\", how=\"outer\")"
   ]
  },
  {
   "cell_type": "code",
   "execution_count": 6,
   "id": "82a2e200-f17b-4ef0-84c6-a10ede17b5ef",
   "metadata": {},
   "outputs": [
    {
     "name": "stdout",
     "output_type": "stream",
     "text": [
      "<class 'pandas.core.frame.DataFrame'>\n",
      "RangeIndex: 456 entries, 0 to 455\n",
      "Data columns (total 5 columns):\n",
      " #   Column               Non-Null Count  Dtype  \n",
      "---  ------               --------------  -----  \n",
      " 0   Date                 456 non-null    object \n",
      " 1   US_GDP               311 non-null    float64\n",
      " 2   Avg_Amount_Financed  196 non-null    object \n",
      " 3   Avg_Finance_Rate     217 non-null    object \n",
      " 4   Delinquency_Rate     150 non-null    float64\n",
      "dtypes: float64(2), object(3)\n",
      "memory usage: 17.9+ KB\n"
     ]
    }
   ],
   "source": [
    "# Rename columns\n",
    "merged_df.columns = [\"Date\", \"US_GDP\", \"Avg_Amount_Financed\", \"Avg_Finance_Rate\", \"Delinquency_Rate\"]\n",
    "\n",
    "\n",
    "\n",
    "# Option to Convert 'Date' Dtype from object to datetime64[ns]\n",
    "# merged_df['Date'] = pd.to_datetime(merged_df['Date'], errors='coerce')\n",
    "\n",
    "\n",
    "\n",
    "\n",
    "merged_df.info()"
   ]
  },
  {
   "cell_type": "code",
   "execution_count": 7,
   "id": "ec4f69f5-2cd4-41b4-aab7-912d65175237",
   "metadata": {},
   "outputs": [
    {
     "name": "stdout",
     "output_type": "stream",
     "text": [
      " All rows before [280] don't have complete information and can be deleted\n"
     ]
    }
   ],
   "source": [
    "row_with_date = merged_df[merged_df['Date'] == '2010-01-01']\n",
    "index_of_row = row_with_date.index.tolist()\n",
    "print(f\" All rows before {index_of_row} don't have complete information and can be deleted\")"
   ]
  },
  {
   "cell_type": "code",
   "execution_count": 8,
   "id": "a7f82ddb-ac2f-4bf7-a8d2-174de8d630c9",
   "metadata": {},
   "outputs": [
    {
     "data": {
      "text/html": [
       "<div>\n",
       "<style scoped>\n",
       "    .dataframe tbody tr th:only-of-type {\n",
       "        vertical-align: middle;\n",
       "    }\n",
       "\n",
       "    .dataframe tbody tr th {\n",
       "        vertical-align: top;\n",
       "    }\n",
       "\n",
       "    .dataframe thead th {\n",
       "        text-align: right;\n",
       "    }\n",
       "</style>\n",
       "<table border=\"1\" class=\"dataframe\">\n",
       "  <thead>\n",
       "    <tr style=\"text-align: right;\">\n",
       "      <th></th>\n",
       "      <th>Date</th>\n",
       "      <th>US_GDP</th>\n",
       "      <th>Avg_Amount_Financed</th>\n",
       "      <th>Avg_Finance_Rate</th>\n",
       "      <th>Delinquency_Rate</th>\n",
       "    </tr>\n",
       "  </thead>\n",
       "  <tbody>\n",
       "    <tr>\n",
       "      <th>0</th>\n",
       "      <td>2010-01-01</td>\n",
       "      <td>14764.610</td>\n",
       "      <td>.</td>\n",
       "      <td>.</td>\n",
       "      <td>4.72</td>\n",
       "    </tr>\n",
       "    <tr>\n",
       "      <th>1</th>\n",
       "      <td>2010-02-01</td>\n",
       "      <td>NaN</td>\n",
       "      <td>.</td>\n",
       "      <td>6.45</td>\n",
       "      <td>NaN</td>\n",
       "    </tr>\n",
       "    <tr>\n",
       "      <th>2</th>\n",
       "      <td>2010-03-01</td>\n",
       "      <td>NaN</td>\n",
       "      <td>25962.78</td>\n",
       "      <td>.</td>\n",
       "      <td>NaN</td>\n",
       "    </tr>\n",
       "    <tr>\n",
       "      <th>3</th>\n",
       "      <td>2010-04-01</td>\n",
       "      <td>14980.193</td>\n",
       "      <td>.</td>\n",
       "      <td>.</td>\n",
       "      <td>4.25</td>\n",
       "    </tr>\n",
       "    <tr>\n",
       "      <th>4</th>\n",
       "      <td>2010-05-01</td>\n",
       "      <td>NaN</td>\n",
       "      <td>.</td>\n",
       "      <td>6.38</td>\n",
       "      <td>NaN</td>\n",
       "    </tr>\n",
       "    <tr>\n",
       "      <th>...</th>\n",
       "      <td>...</td>\n",
       "      <td>...</td>\n",
       "      <td>...</td>\n",
       "      <td>...</td>\n",
       "      <td>...</td>\n",
       "    </tr>\n",
       "    <tr>\n",
       "      <th>171</th>\n",
       "      <td>2024-04-01</td>\n",
       "      <td>29016.714</td>\n",
       "      <td>.</td>\n",
       "      <td>.</td>\n",
       "      <td>2.74</td>\n",
       "    </tr>\n",
       "    <tr>\n",
       "      <th>172</th>\n",
       "      <td>2024-05-01</td>\n",
       "      <td>NaN</td>\n",
       "      <td>.</td>\n",
       "      <td>8.2</td>\n",
       "      <td>NaN</td>\n",
       "    </tr>\n",
       "    <tr>\n",
       "      <th>173</th>\n",
       "      <td>2024-06-01</td>\n",
       "      <td>NaN</td>\n",
       "      <td>39266.13</td>\n",
       "      <td>.</td>\n",
       "      <td>NaN</td>\n",
       "    </tr>\n",
       "    <tr>\n",
       "      <th>174</th>\n",
       "      <td>2024-07-01</td>\n",
       "      <td>29349.924</td>\n",
       "      <td>NaN</td>\n",
       "      <td>.</td>\n",
       "      <td>NaN</td>\n",
       "    </tr>\n",
       "    <tr>\n",
       "      <th>175</th>\n",
       "      <td>2024-08-01</td>\n",
       "      <td>NaN</td>\n",
       "      <td>NaN</td>\n",
       "      <td>8.4</td>\n",
       "      <td>NaN</td>\n",
       "    </tr>\n",
       "  </tbody>\n",
       "</table>\n",
       "<p>176 rows × 5 columns</p>\n",
       "</div>"
      ],
      "text/plain": [
       "           Date     US_GDP Avg_Amount_Financed Avg_Finance_Rate  \\\n",
       "0    2010-01-01  14764.610                   .                .   \n",
       "1    2010-02-01        NaN                   .             6.45   \n",
       "2    2010-03-01        NaN            25962.78                .   \n",
       "3    2010-04-01  14980.193                   .                .   \n",
       "4    2010-05-01        NaN                   .             6.38   \n",
       "..          ...        ...                 ...              ...   \n",
       "171  2024-04-01  29016.714                   .                .   \n",
       "172  2024-05-01        NaN                   .              8.2   \n",
       "173  2024-06-01        NaN            39266.13                .   \n",
       "174  2024-07-01  29349.924                 NaN                .   \n",
       "175  2024-08-01        NaN                 NaN              8.4   \n",
       "\n",
       "     Delinquency_Rate  \n",
       "0                4.72  \n",
       "1                 NaN  \n",
       "2                 NaN  \n",
       "3                4.25  \n",
       "4                 NaN  \n",
       "..                ...  \n",
       "171              2.74  \n",
       "172               NaN  \n",
       "173               NaN  \n",
       "174               NaN  \n",
       "175               NaN  \n",
       "\n",
       "[176 rows x 5 columns]"
      ]
     },
     "execution_count": 8,
     "metadata": {},
     "output_type": "execute_result"
    }
   ],
   "source": [
    "cleaned_df = merged_df.iloc[280:]\n",
    "cleaned_df.reset_index(drop=True, inplace=True)\n",
    "cleaned_df"
   ]
  },
  {
   "cell_type": "code",
   "execution_count": null,
   "id": "f58c6f3b-64c0-4025-9153-25879e08b0d5",
   "metadata": {},
   "outputs": [],
   "source": []
  }
 ],
 "metadata": {
  "kernelspec": {
   "display_name": "my_env",
   "language": "python",
   "name": "python3"
  },
  "language_info": {
   "codemirror_mode": {
    "name": "ipython",
    "version": 3
   },
   "file_extension": ".py",
   "mimetype": "text/x-python",
   "name": "python",
   "nbconvert_exporter": "python",
   "pygments_lexer": "ipython3",
   "version": "3.10.14"
  }
 },
 "nbformat": 4,
 "nbformat_minor": 5
}
